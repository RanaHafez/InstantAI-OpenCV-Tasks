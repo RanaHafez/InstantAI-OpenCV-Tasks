{
 "cells": [
  {
   "attachments": {},
   "cell_type": "markdown",
   "metadata": {},
   "source": [
    "# Tasks for OpenCV Session on 31-7-2023"
   ]
  },
  {
   "attachments": {},
   "cell_type": "markdown",
   "metadata": {},
   "source": [
    "## Task 1: 5 python libraries for computer vision\n",
    "<ul>\n",
    "<li><a href=\"\">TorchVision</a>: One of the main goals of TorchVision is to provide a natural way of using computer vision image transformations with PyTorch models without converting them into a NumPy array and back. </li>\n",
    "<li>\n",
    "<a href=\"https://mmcv.readthedocs.io/en/latest/\">MMCV</a>\n",
    ": MMCV is a type of PyTorch extension that provides image/video processing and transformations, image and annotation visualization, and also many CNN architectures. \n",
    "</li>\n",
    "<li><a href=\"https://keras.io/\">Keras</a>useful for beginners because it allows building neural network models quickly and provides backend support</li>\n",
    "<li><a href=\"https://pytorch.org/\">PyTorch</a> open-source for python can be used in: Image estimation models, Image segmentation, and Image classification</li>\n",
    "<li><a href=\"https://github.com/facebookresearch/detectron2/blob/main/README.md\">Detectron2</a>a PyTorch-based modular object detection library used for: Dense pose prediction, Panoptic segmentation, Synaptic segmentation, Object detection</li>\n",
    "</ul>"
   ]
  },
  {
   "attachments": {},
   "cell_type": "markdown",
   "metadata": {},
   "source": [
    "## Task 2: all image extension opencv can read using imread() function\n",
    "\n",
    "<img src=\"./Resources/extentions.PNG\" alt=\"\">"
   ]
  },
  {
   "attachments": {},
   "cell_type": "markdown",
   "metadata": {},
   "source": [
    "## TASK 3 Contour Module"
   ]
  },
  {
   "cell_type": "code",
   "execution_count": 27,
   "metadata": {},
   "outputs": [
    {
     "data": {
      "text/plain": [
       "-1"
      ]
     },
     "execution_count": 27,
     "metadata": {},
     "output_type": "execute_result"
    }
   ],
   "source": [
    "# import statement\n",
    "import cv2 as cv\n",
    "# open image \n",
    "img = cv.imread(filename=\"./Resources/glasses.jpg\")\n",
    "img_resize = cv.resize(img, (300, 300))\n",
    "img_2_gray = cv.cvtColor(img_resize, cv.COLOR_BGR2GRAY)\n",
    "cv.imshow('Grayed Image', img_2_gray)\n",
    "cv.waitKey(0)"
   ]
  },
  {
   "cell_type": "code",
   "execution_count": 28,
   "metadata": {},
   "outputs": [
    {
     "data": {
      "text/plain": [
       "-1"
      ]
     },
     "execution_count": 28,
     "metadata": {},
     "output_type": "execute_result"
    }
   ],
   "source": [
    "# apply binary thresholding \n",
    "ret, thresh = cv.threshold(img_2_gray, 150, 255, cv.THRESH_BINARY)\n",
    "cv.imshow('Binary image', thresh)\n",
    "cv.waitKey(0)"
   ]
  },
  {
   "cell_type": "code",
   "execution_count": 29,
   "metadata": {},
   "outputs": [
    {
     "data": {
      "text/plain": [
       "-1"
      ]
     },
     "execution_count": 29,
     "metadata": {},
     "output_type": "execute_result"
    }
   ],
   "source": [
    "# detect the contours on the binary image using cv2.CHAIN_APPROX_NONE\n",
    "contours, hierarchy = cv.findContours(image=thresh, mode=cv.RETR_TREE, method=cv.CHAIN_APPROX_NONE)\n",
    "                                      \n",
    "# draw contours on the original image\n",
    "image_copy = img_resize.copy()\n",
    "cv.drawContours(image=image_copy, contours=contours, contourIdx=-1, color=(0, 255, 0), thickness=2, lineType=cv.LINE_AA)\n",
    "cv.imshow('Image-Contoured', image_copy)\n",
    "cv.waitKey(0)"
   ]
  },
  {
   "attachments": {},
   "cell_type": "markdown",
   "metadata": {},
   "source": [
    "<img src=\"./Resources/glasses_before.PNG\">\n",
    "<img src=\"./Resources/image contoured.PNG\">"
   ]
  },
  {
   "attachments": {},
   "cell_type": "markdown",
   "metadata": {},
   "source": [
    "## TASK 4 Read a Video With its Sound"
   ]
  },
  {
   "cell_type": "code",
   "execution_count": null,
   "metadata": {},
   "outputs": [],
   "source": [
    "pip install ffpyplayer"
   ]
  },
  {
   "cell_type": "code",
   "execution_count": 5,
   "metadata": {},
   "outputs": [],
   "source": [
    "from ffpyplayer.player import MediaPlayer"
   ]
  },
  {
   "cell_type": "code",
   "execution_count": 6,
   "metadata": {},
   "outputs": [
    {
     "name": "stdout",
     "output_type": "stream",
     "text": [
      "Video Ended\n"
     ]
    }
   ],
   "source": [
    "PATH = \"./Resources/parrot.mp4\"\n",
    "capture = cv.VideoCapture(PATH)\n",
    "player = MediaPlayer(PATH)\n",
    "counter = 0\n",
    "frames = []\n",
    "while True:\n",
    "    is_true , frame = capture.read()\n",
    "    audio_frame, val = player.get_frame()\n",
    "    if not is_true:\n",
    "        print(\"Video Ended\")\n",
    "        break\n",
    "    \n",
    "    if cv.waitKey(28) & 0xFF==ord('q'):\n",
    "        break\n",
    "\n",
    "    cv.imshow(\"vid\", frame)\n",
    "    if val != 'eof' and audio_frame is not None:\n",
    "            #audio\n",
    "        img, t = audio_frame\n",
    "    counter += 1\n",
    "    frames.append(frame)\n",
    "    \n",
    "       \n",
    "\n",
    "capture.release()\n",
    "cv.destroyAllWindows()"
   ]
  },
  {
   "attachments": {},
   "cell_type": "markdown",
   "metadata": {},
   "source": [
    "## TASK 5 MediaPipe"
   ]
  },
  {
   "attachments": {},
   "cell_type": "markdown",
   "metadata": {},
   "source": []
  }
 ],
 "metadata": {
  "kernelspec": {
   "display_name": "Python 3",
   "language": "python",
   "name": "python3"
  },
  "language_info": {
   "codemirror_mode": {
    "name": "ipython",
    "version": 3
   },
   "file_extension": ".py",
   "mimetype": "text/x-python",
   "name": "python",
   "nbconvert_exporter": "python",
   "pygments_lexer": "ipython3",
   "version": "3.10.4"
  },
  "orig_nbformat": 4
 },
 "nbformat": 4,
 "nbformat_minor": 2
}
